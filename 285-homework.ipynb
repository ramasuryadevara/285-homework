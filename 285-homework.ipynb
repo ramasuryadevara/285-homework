{
 "cells": [
  {
   "cell_type": "code",
   "execution_count": 48,
   "id": "e539e68b",
   "metadata": {},
   "outputs": [],
   "source": [
    "import json"
   ]
  },
  {
   "cell_type": "code",
   "execution_count": 49,
   "id": "2212eacc",
   "metadata": {},
   "outputs": [],
   "source": [
    "import requests"
   ]
  },
  {
   "cell_type": "code",
   "execution_count": 50,
   "id": "89130ac3",
   "metadata": {},
   "outputs": [],
   "source": [
    "#FUNCTION TO GET REQUIRED OUTPUT:\n",
    "def required_details(symbol):\n",
    "    url1=f\"https://finnhub.io/api/v1/quote?symbol={symbol}&token=c8nqqc2ad3iep4jecnt0\" #url for all numerical data required\n",
    "    url2=f\"https://finnhub.io/api/v1/stock/profile2?symbol={symbol}&token=c8nqqc2ad3iep4jecnt0\" # url for name of the compmany\n",
    "    r=requests.get(url1)\n",
    "    r1=requests.get(url2)\n",
    "    r1=json.loads(r1.text)\n",
    "    r=json.loads(r.text)\n",
    "    from datetime import datetime\n",
    "\n",
    "    # datetime object containing current date and time\n",
    "    now = datetime.now()\n",
    "\n",
    "    # dd/mm/YY H:M:S\n",
    "    dt_string = now.strftime(\"%d/%m/%Y %H:%M:%S\")\n",
    "    print(\"Current date and time =\", dt_string)\n",
    "    print(r1[\"name\"])\n",
    "    print(\"StockPrice\",r['c'])\n",
    "    print(\"ValueChanges\",r[\"d\"])\n",
    "    print(\"PercentChanges\",r[\"dp\"])"
   ]
  },
  {
   "cell_type": "code",
   "execution_count": 52,
   "id": "2eee3e5d",
   "metadata": {},
   "outputs": [
    {
     "name": "stdout",
     "output_type": "stream",
     "text": [
      "Current date and time = 14/03/2022 17:17:47\n",
      "Apple Inc\n",
      "StockPrice 150.62\n",
      "ValueChanges -4.11\n",
      "PercentChanges -2.6562\n"
     ]
    }
   ],
   "source": [
    "#implementing function\n",
    "required_details(\"AAPL\")"
   ]
  },
  {
   "cell_type": "code",
   "execution_count": 53,
   "id": "ce110ab1",
   "metadata": {},
   "outputs": [
    {
     "name": "stdout",
     "output_type": "stream",
     "text": [
      "Current date and time = 14/03/2022 17:21:28\n",
      "Apple Inc\n",
      "StockPrice 150.62\n",
      "ValueChanges -4.11\n",
      "PercentChanges -2.6562\n"
     ]
    }
   ],
   "source": [
    "required_details(\"AAPL\")"
   ]
  },
  {
   "cell_type": "code",
   "execution_count": 36,
   "id": "db2c0881",
   "metadata": {},
   "outputs": [],
   "source": []
  },
  {
   "cell_type": "code",
   "execution_count": null,
   "id": "571200b7",
   "metadata": {},
   "outputs": [],
   "source": []
  },
  {
   "cell_type": "code",
   "execution_count": 39,
   "id": "d0b9384e",
   "metadata": {},
   "outputs": [],
   "source": []
  },
  {
   "cell_type": "code",
   "execution_count": 14,
   "id": "1ab4af26",
   "metadata": {},
   "outputs": [],
   "source": []
  },
  {
   "cell_type": "code",
   "execution_count": null,
   "id": "69dc594c",
   "metadata": {},
   "outputs": [],
   "source": []
  },
  {
   "cell_type": "code",
   "execution_count": null,
   "id": "5d6dc8b2",
   "metadata": {},
   "outputs": [],
   "source": []
  },
  {
   "cell_type": "code",
   "execution_count": null,
   "id": "dc4e5a4b",
   "metadata": {},
   "outputs": [],
   "source": []
  }
 ],
 "metadata": {
  "kernelspec": {
   "display_name": "Python 3",
   "language": "python",
   "name": "python3"
  },
  "language_info": {
   "codemirror_mode": {
    "name": "ipython",
    "version": 3
   },
   "file_extension": ".py",
   "mimetype": "text/x-python",
   "name": "python",
   "nbconvert_exporter": "python",
   "pygments_lexer": "ipython3",
   "version": "3.8.8"
  }
 },
 "nbformat": 4,
 "nbformat_minor": 5
}

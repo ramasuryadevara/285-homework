{
 "cells": [
  {
   "cell_type": "code",
   "execution_count": 14,
   "id": "54ef3796",
   "metadata": {},
   "outputs": [],
   "source": []
  },
  {
   "cell_type": "code",
   "execution_count": 15,
   "id": "12cc479d",
   "metadata": {},
   "outputs": [
    {
     "name": "stdout",
     "output_type": "stream",
     "text": [
      "importing Jupyter notebook from secret.ipynb\n"
     ]
    }
   ],
   "source": [
    "import requests\n"
   ]
  },
  {
   "cell_type": "code",
   "execution_count": 34,
   "id": "a979460c",
   "metadata": {},
   "outputs": [],
   "source": [
    "symbol=\"AAPL\""
   ]
  },
  {
   "cell_type": "code",
   "execution_count": 35,
   "id": "f30e62d0",
   "metadata": {},
   "outputs": [],
   "source": [
    "url1=f\"https://finnhub.io/api/v1/quote?symbol={symbol}&token=c8nqqc2ad3iep4jecnt0\" #url for all numerical data required\n",
    "url2=f\"https://finnhub.io/api/v1/stock/profile2?symbol={symbol}&token=c8nqqc2ad3iep4jecnt0\" 3 url for name of the compmany"
   ]
  },
  {
   "cell_type": "code",
   "execution_count": 36,
   "id": "d90f6e50",
   "metadata": {},
   "outputs": [],
   "source": [
    "r=requests.get(url1)\n",
    "r1=requests.get(url2)"
   ]
  },
  {
   "cell_type": "code",
   "execution_count": 37,
   "id": "7f2597c2",
   "metadata": {},
   "outputs": [],
   "source": [
    "import json"
   ]
  },
  {
   "cell_type": "code",
   "execution_count": 38,
   "id": "87af0c13",
   "metadata": {},
   "outputs": [
    {
     "name": "stdout",
     "output_type": "stream",
     "text": [
      "{\"country\":\"US\",\"currency\":\"USD\",\"exchange\":\"NASDAQ NMS - GLOBAL MARKET\",\"finnhubIndustry\":\"Technology\",\"ipo\":\"1980-12-12\",\"logo\":\"https://finnhub.io/api/logo?symbol=AAPL\",\"marketCapitalization\":2525107,\"name\":\"Apple Inc\",\"phone\":\"14089961010.0\",\"shareOutstanding\":16319.44,\"ticker\":\"AAPL\",\"weburl\":\"https://www.apple.com/\"}\n"
     ]
    }
   ],
   "source": [
    "print(r1.text)"
   ]
  },
  {
   "cell_type": "code",
   "execution_count": 39,
   "id": "89d00260",
   "metadata": {},
   "outputs": [],
   "source": [
    "r1=json.loads(r1.text)"
   ]
  },
  {
   "cell_type": "code",
   "execution_count": 40,
   "id": "6928d891",
   "metadata": {},
   "outputs": [
    {
     "data": {
      "text/plain": [
       "'Apple Inc'"
      ]
     },
     "execution_count": 40,
     "metadata": {},
     "output_type": "execute_result"
    }
   ],
   "source": [
    "r1[\"name\"]"
   ]
  },
  {
   "cell_type": "code",
   "execution_count": 33,
   "id": "6585a28a",
   "metadata": {},
   "outputs": [
    {
     "name": "stdout",
     "output_type": "stream",
     "text": [
      "Current date and time = 14/03/2022 14:42:01\n"
     ]
    }
   ],
   "source": [
    "from datetime import datetime\n",
    "\n",
    "# datetime object containing current date and time\n",
    "now = datetime.now()\n",
    "\n",
    "# dd/mm/YY H:M:S\n",
    "dt_string = now.strftime(\"%d/%m/%Y %H:%M:%S\")\n",
    "print(\"Current date and time =\", dt_string)"
   ]
  },
  {
   "cell_type": "code",
   "execution_count": null,
   "id": "a45e769c",
   "metadata": {},
   "outputs": [],
   "source": []
  }
 ],
 "metadata": {
  "kernelspec": {
   "display_name": "Python 3",
   "language": "python",
   "name": "python3"
  },
  "language_info": {
   "codemirror_mode": {
    "name": "ipython",
    "version": 3
   },
   "file_extension": ".py",
   "mimetype": "text/x-python",
   "name": "python",
   "nbconvert_exporter": "python",
   "pygments_lexer": "ipython3",
   "version": "3.8.8"
  }
 },
 "nbformat": 4,
 "nbformat_minor": 5
}
